{
 "cells": [
  {
   "cell_type": "markdown",
   "metadata": {},
   "source": [
    "# Постановка задач\n",
    "существует мировая сеть приемников ГНСС. Данные этой сети можно использовать для исследования влияния движения МКС на атмосферу (ионосферу)\n",
    "\n",
    "## до начала работы необходимо поставить пакет coordinates (conda install coordinates / pip install coordinates)"
   ]
  },
  {
   "cell_type": "code",
   "execution_count": null,
   "metadata": {},
   "outputs": [],
   "source": [
    "import numpy as np\n",
    "import pandas as pd              # работа с таблицами\n",
    "import matplotlib.pyplot as plt  # графики\n",
    "from geopy import distance\n",
    "from math import radians, cos, sin, asin, sqrt\n",
    "from numba import jit, njit"
   ]
  },
  {
   "cell_type": "code",
   "execution_count": 2,
   "metadata": {},
   "outputs": [],
   "source": [
    "# данные о пролетах МКС за 2014 год:\n",
    "# file = './iss/ISS_2014.1.h5'\n",
    "# data = pd.read_hdf(file)    \n",
    "# data = data[:60*60*24]\n",
    "# \n",
    "# data.to_hdf('one_day_data.h5',key='df', complevel=4)\n",
    "\n",
    "file = 'one_day_data.h5'\n",
    "data = pd.read_hdf(file)    "
   ]
  },
  {
   "cell_type": "code",
   "execution_count": 3,
   "metadata": {},
   "outputs": [],
   "source": [
    "data = pd.read_csv('temp.csv', names='time lat lon alt'.split(),skiprows=1)\n",
    "lat_rad = []\n",
    "lon_rad = []\n",
    "for i in data.index[:]:\n",
    "    lat_rad.append(np.deg2rad(data.lat[i]))\n",
    "data.insert(loc=len(data.columns), column='lat_rad', value=lat_rad)\n",
    "\n",
    "for i in data.index[:]:\n",
    "    lon_rad.append(np.deg2rad(data.lon[i]))\n",
    "data.insert(loc=len(data.columns), column='lon_rad', value=lon_rad)"
   ]
  },
  {
   "cell_type": "code",
   "execution_count": 4,
   "metadata": {},
   "outputs": [
    {
     "data": {
      "text/html": [
       "<div>\n",
       "<style scoped>\n",
       "    .dataframe tbody tr th:only-of-type {\n",
       "        vertical-align: middle;\n",
       "    }\n",
       "\n",
       "    .dataframe tbody tr th {\n",
       "        vertical-align: top;\n",
       "    }\n",
       "\n",
       "    .dataframe thead th {\n",
       "        text-align: right;\n",
       "    }\n",
       "</style>\n",
       "<table border=\"1\" class=\"dataframe\">\n",
       "  <thead>\n",
       "    <tr style=\"text-align: right;\">\n",
       "      <th></th>\n",
       "      <th>time</th>\n",
       "      <th>lat</th>\n",
       "      <th>lon</th>\n",
       "      <th>alt</th>\n",
       "      <th>lat_rad</th>\n",
       "      <th>lon_rad</th>\n",
       "    </tr>\n",
       "  </thead>\n",
       "  <tbody>\n",
       "    <tr>\n",
       "      <th>0</th>\n",
       "      <td>2014-01-01 00:00:00</td>\n",
       "      <td>-50.333535</td>\n",
       "      <td>-0.742741</td>\n",
       "      <td>433.111337</td>\n",
       "      <td>-0.878486</td>\n",
       "      <td>-0.012963</td>\n",
       "    </tr>\n",
       "    <tr>\n",
       "      <th>1</th>\n",
       "      <td>2014-01-01 00:00:01</td>\n",
       "      <td>-50.349450</td>\n",
       "      <td>-0.649372</td>\n",
       "      <td>433.114031</td>\n",
       "      <td>-0.878764</td>\n",
       "      <td>-0.011334</td>\n",
       "    </tr>\n",
       "    <tr>\n",
       "      <th>2</th>\n",
       "      <td>2014-01-01 00:00:02</td>\n",
       "      <td>-50.365284</td>\n",
       "      <td>-0.555937</td>\n",
       "      <td>433.116692</td>\n",
       "      <td>-0.879040</td>\n",
       "      <td>-0.009703</td>\n",
       "    </tr>\n",
       "    <tr>\n",
       "      <th>3</th>\n",
       "      <td>2014-01-01 00:00:03</td>\n",
       "      <td>-50.381035</td>\n",
       "      <td>-0.462438</td>\n",
       "      <td>433.119321</td>\n",
       "      <td>-0.879315</td>\n",
       "      <td>-0.008071</td>\n",
       "    </tr>\n",
       "    <tr>\n",
       "      <th>4</th>\n",
       "      <td>2014-01-01 00:00:04</td>\n",
       "      <td>-50.396704</td>\n",
       "      <td>-0.368874</td>\n",
       "      <td>433.121917</td>\n",
       "      <td>-0.879588</td>\n",
       "      <td>-0.006438</td>\n",
       "    </tr>\n",
       "    <tr>\n",
       "      <th>...</th>\n",
       "      <td>...</td>\n",
       "      <td>...</td>\n",
       "      <td>...</td>\n",
       "      <td>...</td>\n",
       "      <td>...</td>\n",
       "      <td>...</td>\n",
       "    </tr>\n",
       "    <tr>\n",
       "      <th>86395</th>\n",
       "      <td>2014-01-01 23:59:55</td>\n",
       "      <td>51.121425</td>\n",
       "      <td>179.125495</td>\n",
       "      <td>422.904394</td>\n",
       "      <td>0.892237</td>\n",
       "      <td>3.126330</td>\n",
       "    </tr>\n",
       "    <tr>\n",
       "      <th>86396</th>\n",
       "      <td>2014-01-01 23:59:56</td>\n",
       "      <td>51.132453</td>\n",
       "      <td>179.222486</td>\n",
       "      <td>422.910568</td>\n",
       "      <td>0.892430</td>\n",
       "      <td>3.128022</td>\n",
       "    </tr>\n",
       "    <tr>\n",
       "      <th>86397</th>\n",
       "      <td>2014-01-01 23:59:57</td>\n",
       "      <td>51.143393</td>\n",
       "      <td>179.319525</td>\n",
       "      <td>422.916721</td>\n",
       "      <td>0.892621</td>\n",
       "      <td>3.129716</td>\n",
       "    </tr>\n",
       "    <tr>\n",
       "      <th>86398</th>\n",
       "      <td>2014-01-01 23:59:58</td>\n",
       "      <td>51.154246</td>\n",
       "      <td>179.416612</td>\n",
       "      <td>422.922854</td>\n",
       "      <td>0.892810</td>\n",
       "      <td>3.131411</td>\n",
       "    </tr>\n",
       "    <tr>\n",
       "      <th>86399</th>\n",
       "      <td>2014-01-01 23:59:59</td>\n",
       "      <td>51.165011</td>\n",
       "      <td>179.513745</td>\n",
       "      <td>422.928966</td>\n",
       "      <td>0.892998</td>\n",
       "      <td>3.133106</td>\n",
       "    </tr>\n",
       "  </tbody>\n",
       "</table>\n",
       "<p>86400 rows × 6 columns</p>\n",
       "</div>"
      ],
      "text/plain": [
       "                      time        lat         lon         alt   lat_rad  \\\n",
       "0      2014-01-01 00:00:00 -50.333535   -0.742741  433.111337 -0.878486   \n",
       "1      2014-01-01 00:00:01 -50.349450   -0.649372  433.114031 -0.878764   \n",
       "2      2014-01-01 00:00:02 -50.365284   -0.555937  433.116692 -0.879040   \n",
       "3      2014-01-01 00:00:03 -50.381035   -0.462438  433.119321 -0.879315   \n",
       "4      2014-01-01 00:00:04 -50.396704   -0.368874  433.121917 -0.879588   \n",
       "...                    ...        ...         ...         ...       ...   \n",
       "86395  2014-01-01 23:59:55  51.121425  179.125495  422.904394  0.892237   \n",
       "86396  2014-01-01 23:59:56  51.132453  179.222486  422.910568  0.892430   \n",
       "86397  2014-01-01 23:59:57  51.143393  179.319525  422.916721  0.892621   \n",
       "86398  2014-01-01 23:59:58  51.154246  179.416612  422.922854  0.892810   \n",
       "86399  2014-01-01 23:59:59  51.165011  179.513745  422.928966  0.892998   \n",
       "\n",
       "        lon_rad  \n",
       "0     -0.012963  \n",
       "1     -0.011334  \n",
       "2     -0.009703  \n",
       "3     -0.008071  \n",
       "4     -0.006438  \n",
       "...         ...  \n",
       "86395  3.126330  \n",
       "86396  3.128022  \n",
       "86397  3.129716  \n",
       "86398  3.131411  \n",
       "86399  3.133106  \n",
       "\n",
       "[86400 rows x 6 columns]"
      ]
     },
     "execution_count": 4,
     "metadata": {},
     "output_type": "execute_result"
    }
   ],
   "source": [
    "#data.index = data['Unnamed: 0']; del data['Unnamed: 0']\n",
    "data"
   ]
  },
  {
   "cell_type": "code",
   "execution_count": 5,
   "metadata": {},
   "outputs": [
    {
     "ename": "ValueError",
     "evalue": "Length mismatch: Expected axis has 6 elements, new values have 3 elements",
     "output_type": "error",
     "traceback": [
      "\u001b[1;31m---------------------------------------------------------------------------\u001b[0m",
      "\u001b[1;31mValueError\u001b[0m                                Traceback (most recent call last)",
      "\u001b[1;32m<ipython-input-5-daf093358325>\u001b[0m in \u001b[0;36m<module>\u001b[1;34m\u001b[0m\n\u001b[0;32m      2\u001b[0m \u001b[0mfig\u001b[0m\u001b[1;33m,\u001b[0m \u001b[0max\u001b[0m \u001b[1;33m=\u001b[0m \u001b[0mplt\u001b[0m\u001b[1;33m.\u001b[0m\u001b[0msubplots\u001b[0m\u001b[1;33m(\u001b[0m\u001b[0mfigsize\u001b[0m\u001b[1;33m=\u001b[0m\u001b[1;33m(\u001b[0m\u001b[1;36m9\u001b[0m\u001b[1;33m,\u001b[0m\u001b[1;36m7\u001b[0m\u001b[1;33m)\u001b[0m\u001b[1;33m)\u001b[0m\u001b[1;33m\u001b[0m\u001b[1;33m\u001b[0m\u001b[0m\n\u001b[0;32m      3\u001b[0m \u001b[1;33m\u001b[0m\u001b[0m\n\u001b[1;32m----> 4\u001b[1;33m \u001b[0mdata\u001b[0m\u001b[1;33m.\u001b[0m\u001b[0mcolumns\u001b[0m \u001b[1;33m=\u001b[0m \u001b[1;34m'lat'\u001b[0m\u001b[1;33m,\u001b[0m \u001b[1;34m'lon'\u001b[0m\u001b[1;33m,\u001b[0m \u001b[1;34m'alt'\u001b[0m\u001b[1;33m\u001b[0m\u001b[1;33m\u001b[0m\u001b[0m\n\u001b[0m\u001b[0;32m      5\u001b[0m \u001b[0mminute_resolution\u001b[0m \u001b[1;33m=\u001b[0m \u001b[0mdata\u001b[0m\u001b[1;33m[\u001b[0m\u001b[1;33m:\u001b[0m\u001b[1;33m:\u001b[0m\u001b[1;36m60\u001b[0m\u001b[1;33m]\u001b[0m\u001b[1;33m\u001b[0m\u001b[1;33m\u001b[0m\u001b[0m\n\u001b[0;32m      6\u001b[0m \u001b[0mminute_resolution\u001b[0m\u001b[1;33m[\u001b[0m\u001b[1;33m:\u001b[0m\u001b[1;36m120\u001b[0m\u001b[1;33m]\u001b[0m\u001b[1;33m.\u001b[0m\u001b[0mplot\u001b[0m\u001b[1;33m(\u001b[0m\u001b[0mx\u001b[0m\u001b[1;33m=\u001b[0m\u001b[1;34m'lon'\u001b[0m\u001b[1;33m,\u001b[0m \u001b[0my\u001b[0m\u001b[1;33m=\u001b[0m\u001b[1;34m'lat'\u001b[0m\u001b[1;33m,\u001b[0m \u001b[0max\u001b[0m\u001b[1;33m=\u001b[0m\u001b[0max\u001b[0m\u001b[1;33m)\u001b[0m\u001b[1;33m\u001b[0m\u001b[1;33m\u001b[0m\u001b[0m\n",
      "\u001b[1;32m~\\anaconda3\\lib\\site-packages\\pandas\\core\\generic.py\u001b[0m in \u001b[0;36m__setattr__\u001b[1;34m(self, name, value)\u001b[0m\n\u001b[0;32m   5285\u001b[0m         \u001b[1;32mtry\u001b[0m\u001b[1;33m:\u001b[0m\u001b[1;33m\u001b[0m\u001b[1;33m\u001b[0m\u001b[0m\n\u001b[0;32m   5286\u001b[0m             \u001b[0mobject\u001b[0m\u001b[1;33m.\u001b[0m\u001b[0m__getattribute__\u001b[0m\u001b[1;33m(\u001b[0m\u001b[0mself\u001b[0m\u001b[1;33m,\u001b[0m \u001b[0mname\u001b[0m\u001b[1;33m)\u001b[0m\u001b[1;33m\u001b[0m\u001b[1;33m\u001b[0m\u001b[0m\n\u001b[1;32m-> 5287\u001b[1;33m             \u001b[1;32mreturn\u001b[0m \u001b[0mobject\u001b[0m\u001b[1;33m.\u001b[0m\u001b[0m__setattr__\u001b[0m\u001b[1;33m(\u001b[0m\u001b[0mself\u001b[0m\u001b[1;33m,\u001b[0m \u001b[0mname\u001b[0m\u001b[1;33m,\u001b[0m \u001b[0mvalue\u001b[0m\u001b[1;33m)\u001b[0m\u001b[1;33m\u001b[0m\u001b[1;33m\u001b[0m\u001b[0m\n\u001b[0m\u001b[0;32m   5288\u001b[0m         \u001b[1;32mexcept\u001b[0m \u001b[0mAttributeError\u001b[0m\u001b[1;33m:\u001b[0m\u001b[1;33m\u001b[0m\u001b[1;33m\u001b[0m\u001b[0m\n\u001b[0;32m   5289\u001b[0m             \u001b[1;32mpass\u001b[0m\u001b[1;33m\u001b[0m\u001b[1;33m\u001b[0m\u001b[0m\n",
      "\u001b[1;32mpandas\\_libs\\properties.pyx\u001b[0m in \u001b[0;36mpandas._libs.properties.AxisProperty.__set__\u001b[1;34m()\u001b[0m\n",
      "\u001b[1;32m~\\anaconda3\\lib\\site-packages\\pandas\\core\\generic.py\u001b[0m in \u001b[0;36m_set_axis\u001b[1;34m(self, axis, labels)\u001b[0m\n\u001b[0;32m    659\u001b[0m \u001b[1;33m\u001b[0m\u001b[0m\n\u001b[0;32m    660\u001b[0m     \u001b[1;32mdef\u001b[0m \u001b[0m_set_axis\u001b[0m\u001b[1;33m(\u001b[0m\u001b[0mself\u001b[0m\u001b[1;33m,\u001b[0m \u001b[0maxis\u001b[0m\u001b[1;33m,\u001b[0m \u001b[0mlabels\u001b[0m\u001b[1;33m)\u001b[0m \u001b[1;33m->\u001b[0m \u001b[1;32mNone\u001b[0m\u001b[1;33m:\u001b[0m\u001b[1;33m\u001b[0m\u001b[1;33m\u001b[0m\u001b[0m\n\u001b[1;32m--> 661\u001b[1;33m         \u001b[0mself\u001b[0m\u001b[1;33m.\u001b[0m\u001b[0m_data\u001b[0m\u001b[1;33m.\u001b[0m\u001b[0mset_axis\u001b[0m\u001b[1;33m(\u001b[0m\u001b[0maxis\u001b[0m\u001b[1;33m,\u001b[0m \u001b[0mlabels\u001b[0m\u001b[1;33m)\u001b[0m\u001b[1;33m\u001b[0m\u001b[1;33m\u001b[0m\u001b[0m\n\u001b[0m\u001b[0;32m    662\u001b[0m         \u001b[0mself\u001b[0m\u001b[1;33m.\u001b[0m\u001b[0m_clear_item_cache\u001b[0m\u001b[1;33m(\u001b[0m\u001b[1;33m)\u001b[0m\u001b[1;33m\u001b[0m\u001b[1;33m\u001b[0m\u001b[0m\n\u001b[0;32m    663\u001b[0m \u001b[1;33m\u001b[0m\u001b[0m\n",
      "\u001b[1;32m~\\anaconda3\\lib\\site-packages\\pandas\\core\\internals\\managers.py\u001b[0m in \u001b[0;36mset_axis\u001b[1;34m(self, axis, new_labels)\u001b[0m\n\u001b[0;32m    175\u001b[0m \u001b[1;33m\u001b[0m\u001b[0m\n\u001b[0;32m    176\u001b[0m         \u001b[1;32mif\u001b[0m \u001b[0mnew_len\u001b[0m \u001b[1;33m!=\u001b[0m \u001b[0mold_len\u001b[0m\u001b[1;33m:\u001b[0m\u001b[1;33m\u001b[0m\u001b[1;33m\u001b[0m\u001b[0m\n\u001b[1;32m--> 177\u001b[1;33m             raise ValueError(\n\u001b[0m\u001b[0;32m    178\u001b[0m                 \u001b[1;34mf\"Length mismatch: Expected axis has {old_len} elements, new \"\u001b[0m\u001b[1;33m\u001b[0m\u001b[1;33m\u001b[0m\u001b[0m\n\u001b[0;32m    179\u001b[0m                 \u001b[1;34mf\"values have {new_len} elements\"\u001b[0m\u001b[1;33m\u001b[0m\u001b[1;33m\u001b[0m\u001b[0m\n",
      "\u001b[1;31mValueError\u001b[0m: Length mismatch: Expected axis has 6 elements, new values have 3 elements"
     ]
    },
    {
     "data": {
      "image/png": "[encoded data removed]",
      "text/plain": [
       "<Figure size 648x504 with 1 Axes>"
      ]
     },
     "metadata": {
      "needs_background": "light"
     },
     "output_type": "display_data"
    }
   ],
   "source": [
    "# Подготовим рисунок:\n",
    "fig, ax = plt.subplots(figsize=(9,7))\n",
    "\n",
    "data.columns = 'lat', 'lon', 'alt'\n",
    "minute_resolution = data[::60]\n",
    "minute_resolution[:120].plot(x='lon', y='lat', ax=ax)\n",
    "\n",
    "plt.grid(ls=\":\")\n",
    "plt.xlim(-180, 180)\n",
    "plt.ylim(-90, 90)\n",
    "plt.xlabel(\"Longitude\")\n",
    "plt.ylabel(\"Latitude\")\n",
    "plt.show()"
   ]
  },
  {
   "cell_type": "code",
   "execution_count": 6,
   "metadata": {},
   "outputs": [
    {
     "ename": "NameError",
     "evalue": "name 'minute_resolution' is not defined",
     "output_type": "error",
     "traceback": [
      "\u001b[1;31m---------------------------------------------------------------------------\u001b[0m",
      "\u001b[1;31mNameError\u001b[0m                                 Traceback (most recent call last)",
      "\u001b[1;32m<ipython-input-6-9016a4db9a51>\u001b[0m in \u001b[0;36m<module>\u001b[1;34m\u001b[0m\n\u001b[1;32m----> 1\u001b[1;33m \u001b[0mminute_resolution\u001b[0m\u001b[1;33m[\u001b[0m\u001b[1;33m:\u001b[0m\u001b[1;36m120\u001b[0m\u001b[1;33m]\u001b[0m\u001b[1;33m.\u001b[0m\u001b[0mindex\u001b[0m\u001b[1;33m\u001b[0m\u001b[1;33m\u001b[0m\u001b[0m\n\u001b[0m",
      "\u001b[1;31mNameError\u001b[0m: name 'minute_resolution' is not defined"
     ]
    }
   ],
   "source": [
    "minute_resolution[:120].index"
   ]
  },
  {
   "cell_type": "markdown",
   "metadata": {},
   "source": [
    "## задача 1: \n",
    "нам нужно определить даты и интервалы времени, когда МКС находилась над областями плотного расположения приемников.\n",
    "Мы возьмем три региона: Калифорния, Япония и Европа"
   ]
  },
  {
   "cell_type": "code",
   "execution_count": 7,
   "metadata": {},
   "outputs": [],
   "source": [
    "path = './regions'\n",
    "stations = []  # список, содержащий таблицы по каждому из трех регионов\n",
    "for region in 'cal', 'jap', 'eur':\n",
    "    stations.append(pd.read_csv(f'{path}/{region}.lst', names='site lat lon'.split()))\n",
    "    "
   ]
  },
  {
   "cell_type": "code",
   "execution_count": 8,
   "metadata": {},
   "outputs": [
    {
     "data": {
      "text/plain": [
       "[      site      lat       lon\n",
       " 0     7odm  34.1167 -117.0932\n",
       " 1     acsb  33.2745 -117.4449\n",
       " 2     agmt  34.5947 -116.4294\n",
       " 3     alpp  34.8248 -118.6948\n",
       " 4     alth  36.8899 -120.6698\n",
       " ...    ...      ...       ...\n",
       " 1243  kdcb  36.3835 -119.0906\n",
       " 1244  plmo  39.4333 -121.6046\n",
       " 1245  port  36.0413 -119.0169\n",
       " 1246  sod2  37.1664 -121.9255\n",
       " 1247  spig  31.0461 -115.4660\n",
       " \n",
       " [1248 rows x 3 columns],\n",
       "      site      lat       lon\n",
       " 0    0194  39.1859  139.5477\n",
       " 1    019b  39.1859  139.5477\n",
       " 2    aira  31.8244  130.5996\n",
       " 3    ccj2  27.0678  142.1950\n",
       " 4    chan  43.7910  125.4442\n",
       " ..    ...      ...       ...\n",
       " 187  khab  48.4954  135.0499\n",
       " 188  uskh  47.0350  142.7165\n",
       " 189  plvs  30.8431  121.5215\n",
       " 190  prt2  43.1226  133.1261\n",
       " 191  brgv  42.7711  133.0608\n",
       " \n",
       " [192 rows x 3 columns],\n",
       "      site      lat      lon\n",
       " 0    acor  43.3647  -8.3989\n",
       " 1    ajac  41.9278   8.7626\n",
       " 2    alac  38.3392  -0.4812\n",
       " 3    alme  36.8528  -2.4594\n",
       " 4    ambl  49.8597   0.9943\n",
       " ..    ...      ...      ...\n",
       " 942  rets  38.4290  21.4293\n",
       " 943  siva  35.0177  24.8120\n",
       " 944  vam0  35.4057  24.1988\n",
       " 945  svet  54.6870  20.1707\n",
       " 946  gusv  54.5924  22.1856\n",
       " \n",
       " [947 rows x 3 columns]]"
      ]
     },
     "execution_count": 8,
     "metadata": {},
     "output_type": "execute_result"
    }
   ],
   "source": [
    "sites = stations[0]# это первые 10 станций в Калифорнии\n",
    "stations"
   ]
  },
  {
   "cell_type": "code",
   "execution_count": 9,
   "metadata": {},
   "outputs": [],
   "source": [
    "site = sites.iloc[12]"
   ]
  },
  {
   "cell_type": "markdown",
   "metadata": {},
   "source": [
    "Написать функцию: для заданной станции она возвращает моменты времени, когда МКС проходила над станцией (или в заданном радиусе от нее)"
   ]
  },
  {
   "cell_type": "code",
   "execution_count": 16,
   "metadata": {},
   "outputs": [
    {
     "data": {
      "text/plain": [
       "[10996,\n",
       " 25576,\n",
       " 28222,\n",
       " 29608,\n",
       " 31497,\n",
       " 42481,\n",
       " 47858,\n",
       " 49987,\n",
       " 50504,\n",
       " 51460,\n",
       " 59268,\n",
       " 63415,\n",
       " 68476,\n",
       " 82526,\n",
       " 84170]"
      ]
     },
     "execution_count": 16,
     "metadata": {},
     "output_type": "execute_result"
    }
   ],
   "source": [
    "s_lat = site.lat\n",
    "s_lon = site.lon\n",
    "data2 = data[['lat','lon']].copy()\n",
    "data2.insert(loc=len(data2.columns), column='dlat', value=data2.lat-s_lat)\n",
    "data2.insert(loc=len(data2.columns), column='dlon', value=data2.lon-s_lon)\n",
    "def my_filter(col):\n",
    "    return col['dlon'] < 5\n",
    "t = data2[data2.apply(my_filter, axis='columns')]\n",
    "t\n",
    "\n",
    "def Haversine(lat1, lon1, lat2, lon2, radius=0):\n",
    "    # print([type(i) for i in (lat1, lat2, lon1, lon2)])\n",
    "    dlon = lon2 - lon1 \n",
    "    dlat = lat2 - lat1 \n",
    "    a = sin(dlat/2)**2 + cos(lat1) * cos(lat2) * sin(dlon/2)**2\n",
    "    c = 2 * 6371 * asin(sqrt(a))  \n",
    "    if (c < radius):\n",
    "        d = True\n",
    "    else:\n",
    "        d = False\n",
    "    return d\n",
    "\n",
    "def when_iss_passed(station, iss_track, radius=0):\n",
    "    lat1 = station.lat\n",
    "    lon1 = station.lon\n",
    "    ind = []\n",
    "    for i in iss_track.index[:]:\n",
    "        item = iss_track.loc[i]\n",
    "        lat2 = item.lat\n",
    "        lon2 = item.lon\n",
    "        h = Haversine(lat1, lon1, lat2, lon2, radius)\n",
    "        if (h == True): ind.append(i)\n",
    "    return ind\n",
    "when_iss_passed(site, data2, 200)"
   ]
  },
  {
   "cell_type": "code",
   "execution_count": 48,
   "metadata": {},
   "outputs": [],
   "source": [
    "def Haversine(lat1, lon1, lat2, lon2, radius=0):\n",
    "    # print([type(i) for i in (lat1, lat2, lon1, lon2)])\n",
    "    dlon = lon2 - lon1 \n",
    "    dlat = lat2 - lat1 \n",
    "    a = sin(dlat/2)**2 + cos(lat1) * cos(lat2) * sin(dlon/2)**2\n",
    "    c = 2 * 6371 * asin(sqrt(a))  \n",
    "    if (c < radius):\n",
    "        d = True\n",
    "    else:\n",
    "        d = False\n",
    "    return d\n",
    "\n",
    "def when_iss_passed(station, iss_track, radius=0):\n",
    "    lat1 = np.deg2rad(station.lat)\n",
    "    lon1 = np.deg2rad(station.lon)\n",
    "    ind = []\n",
    "    for i in iss_track.index[:]:\n",
    "        item = iss_track.loc[i]\n",
    "        lat2 = item.lat_rad\n",
    "        lon2 = item.lon_rad\n",
    "        h = Haversine(lat1, lon1, lat2, lon2, radius)\n",
    "        if (h == True): ind.append(i)\n",
    "    return ind"
   ]
  },
  {
   "cell_type": "code",
   "execution_count": 48,
   "metadata": {},
   "outputs": [],
   "source": []
  },
  {
   "cell_type": "code",
   "execution_count": 48,
   "metadata": {},
   "outputs": [],
   "source": []
  },
  {
   "cell_type": "code",
   "execution_count": null,
   "metadata": {},
   "outputs": [],
   "source": []
  },
  {
   "cell_type": "code",
   "execution_count": 10,
   "metadata": {},
   "outputs": [
    {
     "data": {
      "text/plain": [
       "time       2014-01-01 00:00:01\n",
       "lat                   -50.3494\n",
       "lon                  -0.649372\n",
       "alt                    433.114\n",
       "lat_rad              -0.878764\n",
       "lon_rad             -0.0113337\n",
       "Name: 1, dtype: object"
      ]
     },
     "execution_count": 10,
     "metadata": {},
     "output_type": "execute_result"
    }
   ],
   "source": []
  },
  {
   "cell_type": "code",
   "execution_count": 12,
   "metadata": {},
   "outputs": [
    {
     "name": "stdout",
     "output_type": "stream",
     "text": [
      "0.6015905585529175\n"
     ]
    }
   ],
   "source": []
  },
  {
   "cell_type": "code",
   "execution_count": 13,
   "metadata": {},
   "outputs": [
    {
     "name": "stdout",
     "output_type": "stream",
     "text": [
      "-2.044723031881437\n"
     ]
    }
   ],
   "source": []
  },
  {
   "cell_type": "code",
   "execution_count": null,
   "metadata": {},
   "outputs": [],
   "source": []
  },
  {
   "cell_type": "code",
   "execution_count": 16,
   "metadata": {},
   "outputs": [],
   "source": []
  },
  {
   "cell_type": "code",
   "execution_count": null,
   "metadata": {},
   "outputs": [],
   "source": []
  },
  {
   "cell_type": "code",
   "execution_count": 51,
   "metadata": {},
   "outputs": [
    {
     "data": {
      "text/plain": [
       "[]"
      ]
     },
     "execution_count": 51,
     "metadata": {},
     "output_type": "execute_result"
    }
   ],
   "source": [
    "when_iss_passed(site, data, 200)"
   ]
  },
  {
   "cell_type": "code",
   "execution_count": 15,
   "metadata": {},
   "outputs": [
    {
     "ename": "KeyboardInterrupt",
     "evalue": "",
     "output_type": "error",
     "traceback": [
      "\u001b[1;31m---------------------------------------------------------------------------\u001b[0m",
      "\u001b[1;31mKeyboardInterrupt\u001b[0m                         Traceback (most recent call last)",
      "\u001b[1;32m<ipython-input-15-4682f5a62d68>\u001b[0m in \u001b[0;36m<module>\u001b[1;34m\u001b[0m\n\u001b[0;32m      2\u001b[0m \u001b[1;32mfor\u001b[0m \u001b[0mi\u001b[0m \u001b[1;32min\u001b[0m \u001b[0msites\u001b[0m\u001b[1;33m.\u001b[0m\u001b[0mindex\u001b[0m\u001b[1;33m[\u001b[0m\u001b[1;33m:\u001b[0m\u001b[1;36m3\u001b[0m\u001b[1;33m]\u001b[0m\u001b[1;33m:\u001b[0m\u001b[1;33m\u001b[0m\u001b[1;33m\u001b[0m\u001b[0m\n\u001b[0;32m      3\u001b[0m     \u001b[0msite\u001b[0m \u001b[1;33m=\u001b[0m \u001b[0msites\u001b[0m\u001b[1;33m.\u001b[0m\u001b[0miloc\u001b[0m\u001b[1;33m[\u001b[0m\u001b[0mi\u001b[0m\u001b[1;33m]\u001b[0m\u001b[1;33m\u001b[0m\u001b[1;33m\u001b[0m\u001b[0m\n\u001b[1;32m----> 4\u001b[1;33m     \u001b[0mresult\u001b[0m\u001b[1;33m.\u001b[0m\u001b[0mappend\u001b[0m\u001b[1;33m(\u001b[0m\u001b[0mwhen_iss_passed\u001b[0m\u001b[1;33m(\u001b[0m\u001b[0msite\u001b[0m\u001b[1;33m,\u001b[0m \u001b[0mdata\u001b[0m\u001b[1;33m,\u001b[0m \u001b[1;36m200\u001b[0m\u001b[1;33m)\u001b[0m\u001b[1;33m)\u001b[0m\u001b[1;33m\u001b[0m\u001b[1;33m\u001b[0m\u001b[0m\n\u001b[0m\u001b[0;32m      5\u001b[0m     \u001b[0mprint\u001b[0m\u001b[1;33m(\u001b[0m\u001b[0mresult\u001b[0m\u001b[1;33m[\u001b[0m\u001b[1;33m-\u001b[0m\u001b[1;36m1\u001b[0m\u001b[1;33m]\u001b[0m\u001b[1;33m)\u001b[0m\u001b[1;33m\u001b[0m\u001b[1;33m\u001b[0m\u001b[0m\n",
      "\u001b[1;32m<ipython-input-11-b77f594a9f13>\u001b[0m in \u001b[0;36mwhen_iss_passed\u001b[1;34m(station, iss_track, radius)\u001b[0m\n\u001b[0;32m      6\u001b[0m         \u001b[0mitem\u001b[0m \u001b[1;33m=\u001b[0m \u001b[0miss_track\u001b[0m\u001b[1;33m.\u001b[0m\u001b[0mloc\u001b[0m\u001b[1;33m[\u001b[0m\u001b[0mi\u001b[0m\u001b[1;33m]\u001b[0m\u001b[1;33m\u001b[0m\u001b[1;33m\u001b[0m\u001b[0m\n\u001b[0;32m      7\u001b[0m         \u001b[0mlat2\u001b[0m \u001b[1;33m=\u001b[0m \u001b[0mitem\u001b[0m\u001b[1;33m.\u001b[0m\u001b[0mlat_rad\u001b[0m\u001b[1;33m\u001b[0m\u001b[1;33m\u001b[0m\u001b[0m\n\u001b[1;32m----> 8\u001b[1;33m         \u001b[0mlon2\u001b[0m \u001b[1;33m=\u001b[0m \u001b[0mitem\u001b[0m\u001b[1;33m.\u001b[0m\u001b[0mlon_rad\u001b[0m\u001b[1;33m\u001b[0m\u001b[1;33m\u001b[0m\u001b[0m\n\u001b[0m\u001b[0;32m      9\u001b[0m         \u001b[0mh\u001b[0m \u001b[1;33m=\u001b[0m \u001b[0mHaversine\u001b[0m\u001b[1;33m(\u001b[0m\u001b[0mlat1\u001b[0m\u001b[1;33m,\u001b[0m \u001b[0mlon1\u001b[0m\u001b[1;33m,\u001b[0m \u001b[0mlat2\u001b[0m\u001b[1;33m,\u001b[0m \u001b[0mlon2\u001b[0m\u001b[1;33m,\u001b[0m \u001b[0mradius\u001b[0m\u001b[1;33m)\u001b[0m\u001b[1;33m\u001b[0m\u001b[1;33m\u001b[0m\u001b[0m\n\u001b[0;32m     10\u001b[0m         \u001b[1;32mif\u001b[0m \u001b[1;33m(\u001b[0m\u001b[0mh\u001b[0m \u001b[1;33m==\u001b[0m \u001b[1;32mTrue\u001b[0m\u001b[1;33m)\u001b[0m\u001b[1;33m:\u001b[0m \u001b[0mind\u001b[0m\u001b[1;33m.\u001b[0m\u001b[0mappend\u001b[0m\u001b[1;33m(\u001b[0m\u001b[0mi\u001b[0m\u001b[1;33m)\u001b[0m\u001b[1;33m\u001b[0m\u001b[1;33m\u001b[0m\u001b[0m\n",
      "\u001b[1;32m~\\anaconda3\\lib\\site-packages\\pandas\\core\\generic.py\u001b[0m in \u001b[0;36m__getattr__\u001b[1;34m(self, name)\u001b[0m\n\u001b[0;32m   5270\u001b[0m             \u001b[1;32mreturn\u001b[0m \u001b[0mobject\u001b[0m\u001b[1;33m.\u001b[0m\u001b[0m__getattribute__\u001b[0m\u001b[1;33m(\u001b[0m\u001b[0mself\u001b[0m\u001b[1;33m,\u001b[0m \u001b[0mname\u001b[0m\u001b[1;33m)\u001b[0m\u001b[1;33m\u001b[0m\u001b[1;33m\u001b[0m\u001b[0m\n\u001b[0;32m   5271\u001b[0m         \u001b[1;32melse\u001b[0m\u001b[1;33m:\u001b[0m\u001b[1;33m\u001b[0m\u001b[1;33m\u001b[0m\u001b[0m\n\u001b[1;32m-> 5272\u001b[1;33m             \u001b[1;32mif\u001b[0m \u001b[0mself\u001b[0m\u001b[1;33m.\u001b[0m\u001b[0m_info_axis\u001b[0m\u001b[1;33m.\u001b[0m\u001b[0m_can_hold_identifiers_and_holds_name\u001b[0m\u001b[1;33m(\u001b[0m\u001b[0mname\u001b[0m\u001b[1;33m)\u001b[0m\u001b[1;33m:\u001b[0m\u001b[1;33m\u001b[0m\u001b[1;33m\u001b[0m\u001b[0m\n\u001b[0m\u001b[0;32m   5273\u001b[0m                 \u001b[1;32mreturn\u001b[0m \u001b[0mself\u001b[0m\u001b[1;33m[\u001b[0m\u001b[0mname\u001b[0m\u001b[1;33m]\u001b[0m\u001b[1;33m\u001b[0m\u001b[1;33m\u001b[0m\u001b[0m\n\u001b[0;32m   5274\u001b[0m             \u001b[1;32mreturn\u001b[0m \u001b[0mobject\u001b[0m\u001b[1;33m.\u001b[0m\u001b[0m__getattribute__\u001b[0m\u001b[1;33m(\u001b[0m\u001b[0mself\u001b[0m\u001b[1;33m,\u001b[0m \u001b[0mname\u001b[0m\u001b[1;33m)\u001b[0m\u001b[1;33m\u001b[0m\u001b[1;33m\u001b[0m\u001b[0m\n",
      "\u001b[1;32m~\\anaconda3\\lib\\site-packages\\pandas\\core\\indexes\\base.py\u001b[0m in \u001b[0;36m_can_hold_identifiers_and_holds_name\u001b[1;34m(self, name)\u001b[0m\n\u001b[0;32m   3957\u001b[0m         \u001b[0mhttps\u001b[0m\u001b[1;33m:\u001b[0m\u001b[1;33m//\u001b[0m\u001b[0mgithub\u001b[0m\u001b[1;33m.\u001b[0m\u001b[0mcom\u001b[0m\u001b[1;33m/\u001b[0m\u001b[0mpandas\u001b[0m\u001b[1;33m-\u001b[0m\u001b[0mdev\u001b[0m\u001b[1;33m/\u001b[0m\u001b[0mpandas\u001b[0m\u001b[1;33m/\u001b[0m\u001b[0missues\u001b[0m\u001b[1;33m/\u001b[0m\u001b[1;36m19764\u001b[0m\u001b[1;33m\u001b[0m\u001b[1;33m\u001b[0m\u001b[0m\n\u001b[0;32m   3958\u001b[0m         \"\"\"\n\u001b[1;32m-> 3959\u001b[1;33m         \u001b[1;32mif\u001b[0m \u001b[0mself\u001b[0m\u001b[1;33m.\u001b[0m\u001b[0mis_object\u001b[0m\u001b[1;33m(\u001b[0m\u001b[1;33m)\u001b[0m \u001b[1;32mor\u001b[0m \u001b[0mself\u001b[0m\u001b[1;33m.\u001b[0m\u001b[0mis_categorical\u001b[0m\u001b[1;33m(\u001b[0m\u001b[1;33m)\u001b[0m\u001b[1;33m:\u001b[0m\u001b[1;33m\u001b[0m\u001b[1;33m\u001b[0m\u001b[0m\n\u001b[0m\u001b[0;32m   3960\u001b[0m             \u001b[1;32mreturn\u001b[0m \u001b[0mname\u001b[0m \u001b[1;32min\u001b[0m \u001b[0mself\u001b[0m\u001b[1;33m\u001b[0m\u001b[1;33m\u001b[0m\u001b[0m\n\u001b[0;32m   3961\u001b[0m         \u001b[1;32mreturn\u001b[0m \u001b[1;32mFalse\u001b[0m\u001b[1;33m\u001b[0m\u001b[1;33m\u001b[0m\u001b[0m\n",
      "\u001b[1;32m~\\anaconda3\\lib\\site-packages\\pandas\\core\\indexes\\base.py\u001b[0m in \u001b[0;36mis_object\u001b[1;34m(self)\u001b[0m\n\u001b[0;32m   1678\u001b[0m \u001b[1;33m\u001b[0m\u001b[0m\n\u001b[0;32m   1679\u001b[0m     \u001b[1;32mdef\u001b[0m \u001b[0mis_object\u001b[0m\u001b[1;33m(\u001b[0m\u001b[0mself\u001b[0m\u001b[1;33m)\u001b[0m \u001b[1;33m->\u001b[0m \u001b[0mbool\u001b[0m\u001b[1;33m:\u001b[0m\u001b[1;33m\u001b[0m\u001b[1;33m\u001b[0m\u001b[0m\n\u001b[1;32m-> 1680\u001b[1;33m         \u001b[1;32mreturn\u001b[0m \u001b[0mis_object_dtype\u001b[0m\u001b[1;33m(\u001b[0m\u001b[0mself\u001b[0m\u001b[1;33m.\u001b[0m\u001b[0mdtype\u001b[0m\u001b[1;33m)\u001b[0m\u001b[1;33m\u001b[0m\u001b[1;33m\u001b[0m\u001b[0m\n\u001b[0m\u001b[0;32m   1681\u001b[0m \u001b[1;33m\u001b[0m\u001b[0m\n\u001b[0;32m   1682\u001b[0m     \u001b[1;32mdef\u001b[0m \u001b[0mis_categorical\u001b[0m\u001b[1;33m(\u001b[0m\u001b[0mself\u001b[0m\u001b[1;33m)\u001b[0m \u001b[1;33m->\u001b[0m \u001b[0mbool\u001b[0m\u001b[1;33m:\u001b[0m\u001b[1;33m\u001b[0m\u001b[1;33m\u001b[0m\u001b[0m\n",
      "\u001b[1;31mKeyboardInterrupt\u001b[0m: "
     ]
    }
   ],
   "source": [
    "result = []\n",
    "for i in sites.index[:3]:\n",
    "    site = sites.iloc[i]\n",
    "    result.append(when_iss_passed(site, data, 200))\n",
    "    print(result[-1])"
   ]
  },
  {
   "cell_type": "code",
   "execution_count": 16,
   "metadata": {},
   "outputs": [
    {
     "data": {
      "text/html": [
       "<div>\n",
       "<style scoped>\n",
       "    .dataframe tbody tr th:only-of-type {\n",
       "        vertical-align: middle;\n",
       "    }\n",
       "\n",
       "    .dataframe tbody tr th {\n",
       "        vertical-align: top;\n",
       "    }\n",
       "\n",
       "    .dataframe thead th {\n",
       "        text-align: right;\n",
       "    }\n",
       "</style>\n",
       "<table border=\"1\" class=\"dataframe\">\n",
       "  <thead>\n",
       "    <tr style=\"text-align: right;\">\n",
       "      <th></th>\n",
       "      <th>time</th>\n",
       "      <th>lat</th>\n",
       "      <th>lon</th>\n",
       "      <th>alt</th>\n",
       "    </tr>\n",
       "  </thead>\n",
       "  <tbody>\n",
       "    <tr>\n",
       "      <th>0</th>\n",
       "      <td>2014-01-01 00:00:00</td>\n",
       "      <td>-50.333535</td>\n",
       "      <td>-0.742741</td>\n",
       "      <td>433.111337</td>\n",
       "    </tr>\n",
       "    <tr>\n",
       "      <th>1</th>\n",
       "      <td>2014-01-01 00:00:01</td>\n",
       "      <td>-50.349450</td>\n",
       "      <td>-0.649372</td>\n",
       "      <td>433.114031</td>\n",
       "    </tr>\n",
       "    <tr>\n",
       "      <th>2</th>\n",
       "      <td>2014-01-01 00:00:02</td>\n",
       "      <td>-50.365284</td>\n",
       "      <td>-0.555937</td>\n",
       "      <td>433.116692</td>\n",
       "    </tr>\n",
       "    <tr>\n",
       "      <th>3</th>\n",
       "      <td>2014-01-01 00:00:03</td>\n",
       "      <td>-50.381035</td>\n",
       "      <td>-0.462438</td>\n",
       "      <td>433.119321</td>\n",
       "    </tr>\n",
       "    <tr>\n",
       "      <th>4</th>\n",
       "      <td>2014-01-01 00:00:04</td>\n",
       "      <td>-50.396704</td>\n",
       "      <td>-0.368874</td>\n",
       "      <td>433.121917</td>\n",
       "    </tr>\n",
       "  </tbody>\n",
       "</table>\n",
       "</div>"
      ],
      "text/plain": [
       "                  time        lat       lon         alt\n",
       "0  2014-01-01 00:00:00 -50.333535 -0.742741  433.111337\n",
       "1  2014-01-01 00:00:01 -50.349450 -0.649372  433.114031\n",
       "2  2014-01-01 00:00:02 -50.365284 -0.555937  433.116692\n",
       "3  2014-01-01 00:00:03 -50.381035 -0.462438  433.119321\n",
       "4  2014-01-01 00:00:04 -50.396704 -0.368874  433.121917"
      ]
     },
     "execution_count": 16,
     "metadata": {},
     "output_type": "execute_result"
    }
   ],
   "source": [
    "data.head()"
   ]
  },
  {
   "cell_type": "code",
   "execution_count": 20,
   "metadata": {},
   "outputs": [
    {
     "data": {
      "text/plain": [
       "site       agmt\n",
       "lat     34.5947\n",
       "lon    -116.429\n",
       "Name: 2, dtype: object"
      ]
     },
     "execution_count": 20,
     "metadata": {},
     "output_type": "execute_result"
    }
   ],
   "source": [
    "sites.iloc[2]"
   ]
  },
  {
   "cell_type": "code",
   "execution_count": 21,
   "metadata": {},
   "outputs": [
    {
     "data": {
      "text/html": [
       "<div>\n",
       "<style scoped>\n",
       "    .dataframe tbody tr th:only-of-type {\n",
       "        vertical-align: middle;\n",
       "    }\n",
       "\n",
       "    .dataframe tbody tr th {\n",
       "        vertical-align: top;\n",
       "    }\n",
       "\n",
       "    .dataframe thead th {\n",
       "        text-align: right;\n",
       "    }\n",
       "</style>\n",
       "<table border=\"1\" class=\"dataframe\">\n",
       "  <thead>\n",
       "    <tr style=\"text-align: right;\">\n",
       "      <th></th>\n",
       "      <th>time</th>\n",
       "      <th>lat</th>\n",
       "      <th>lon</th>\n",
       "      <th>alt</th>\n",
       "    </tr>\n",
       "  </thead>\n",
       "  <tbody>\n",
       "    <tr>\n",
       "      <th>18724</th>\n",
       "      <td>2014-01-01 05:12:04</td>\n",
       "      <td>22.049399</td>\n",
       "      <td>46.943455</td>\n",
       "      <td>414.878467</td>\n",
       "    </tr>\n",
       "    <tr>\n",
       "      <th>26575</th>\n",
       "      <td>2014-01-01 07:22:55</td>\n",
       "      <td>3.177983</td>\n",
       "      <td>172.604693</td>\n",
       "      <td>419.967619</td>\n",
       "    </tr>\n",
       "    <tr>\n",
       "      <th>27428</th>\n",
       "      <td>2014-01-01 07:37:08</td>\n",
       "      <td>-37.732317</td>\n",
       "      <td>-151.000568</td>\n",
       "      <td>429.549254</td>\n",
       "    </tr>\n",
       "    <tr>\n",
       "      <th>31635</th>\n",
       "      <td>2014-01-01 08:47:15</td>\n",
       "      <td>28.300656</td>\n",
       "      <td>128.611427</td>\n",
       "      <td>420.906516</td>\n",
       "    </tr>\n",
       "    <tr>\n",
       "      <th>31704</th>\n",
       "      <td>2014-01-01 08:48:24</td>\n",
       "      <td>25.078076</td>\n",
       "      <td>131.780574</td>\n",
       "      <td>420.533138</td>\n",
       "    </tr>\n",
       "    <tr>\n",
       "      <th>35782</th>\n",
       "      <td>2014-01-01 09:56:22</td>\n",
       "      <td>37.666410</td>\n",
       "      <td>-6.487659</td>\n",
       "      <td>418.301728</td>\n",
       "    </tr>\n",
       "    <tr>\n",
       "      <th>59747</th>\n",
       "      <td>2014-01-01 16:35:47</td>\n",
       "      <td>15.743538</td>\n",
       "      <td>21.796122</td>\n",
       "      <td>419.872785</td>\n",
       "    </tr>\n",
       "    <tr>\n",
       "      <th>62275</th>\n",
       "      <td>2014-01-01 17:17:55</td>\n",
       "      <td>-28.256391</td>\n",
       "      <td>178.887758</td>\n",
       "      <td>421.578160</td>\n",
       "    </tr>\n",
       "    <tr>\n",
       "      <th>63802</th>\n",
       "      <td>2014-01-01 17:43:22</td>\n",
       "      <td>43.921439</td>\n",
       "      <td>-113.300314</td>\n",
       "      <td>420.135865</td>\n",
       "    </tr>\n",
       "    <tr>\n",
       "      <th>65442</th>\n",
       "      <td>2014-01-01 18:10:42</td>\n",
       "      <td>9.486814</td>\n",
       "      <td>2.935261</td>\n",
       "      <td>419.808596</td>\n",
       "    </tr>\n",
       "    <tr>\n",
       "      <th>80759</th>\n",
       "      <td>2014-01-01 22:25:59</td>\n",
       "      <td>50.207019</td>\n",
       "      <td>-163.547439</td>\n",
       "      <td>422.470430</td>\n",
       "    </tr>\n",
       "  </tbody>\n",
       "</table>\n",
       "</div>"
      ],
      "text/plain": [
       "                      time        lat         lon         alt\n",
       "18724  2014-01-01 05:12:04  22.049399   46.943455  414.878467\n",
       "26575  2014-01-01 07:22:55   3.177983  172.604693  419.967619\n",
       "27428  2014-01-01 07:37:08 -37.732317 -151.000568  429.549254\n",
       "31635  2014-01-01 08:47:15  28.300656  128.611427  420.906516\n",
       "31704  2014-01-01 08:48:24  25.078076  131.780574  420.533138\n",
       "35782  2014-01-01 09:56:22  37.666410   -6.487659  418.301728\n",
       "59747  2014-01-01 16:35:47  15.743538   21.796122  419.872785\n",
       "62275  2014-01-01 17:17:55 -28.256391  178.887758  421.578160\n",
       "63802  2014-01-01 17:43:22  43.921439 -113.300314  420.135865\n",
       "65442  2014-01-01 18:10:42   9.486814    2.935261  419.808596\n",
       "80759  2014-01-01 22:25:59  50.207019 -163.547439  422.470430"
      ]
     },
     "execution_count": 21,
     "metadata": {},
     "output_type": "execute_result"
    }
   ],
   "source": [
    "data.iloc[result[-1]]"
   ]
  },
  {
   "cell_type": "markdown",
   "metadata": {},
   "source": [
    "## задача 2: \n",
    "Для заданного момента времени определить положение спутников GPS, GLONASS, таких, что лучи от них до заданной станции траекторию МКС"
   ]
  },
  {
   "cell_type": "code",
   "execution_count": 44,
   "metadata": {},
   "outputs": [],
   "source": [
    "import gnss_tec\n",
    "import datetime as dt\n",
    "from coordinates import satellite_xyz\n",
    "from sat_geometry_lite import xyz_to_el_az, sub_ionospheric"
   ]
  },
  {
   "cell_type": "code",
   "execution_count": 41,
   "metadata": {},
   "outputs": [],
   "source": [
    "import json\n",
    "# Читаем список станций\n",
    "with open('base.json','rb') as file:\n",
    "    sites = json.load(file)"
   ]
  },
  {
   "cell_type": "code",
   "execution_count": 42,
   "metadata": {},
   "outputs": [],
   "source": [
    "sat_num = 1\n",
    "nav_file = '/home/ilya/Data/Rinex/nav/tmp/brdc2560.14n'\n",
    "gnss_type = 'G'"
   ]
  },
  {
   "cell_type": "code",
   "execution_count": 45,
   "metadata": {},
   "outputs": [],
   "source": [
    "timestamp = dt.datetime(2014, 9, 13, 14)\n",
    "\n",
    "site = sites[0]\n",
    "#site_xyz = [-4073662.27, 4712064.75, -1367874.49 ]\n",
    "site_xyz = site['xyz']\n",
    "sat_xyz = satellite_xyz(nav_file, gnss_type, sat_num, timestamp)"
   ]
  },
  {
   "cell_type": "code",
   "execution_count": 46,
   "metadata": {},
   "outputs": [],
   "source": [
    "# углы положения спутника на небе восхождение (elevation) и азимут (azimuth)\n",
    "el, az = xyz_to_el_az(site_xyz, sat_xyz)"
   ]
  },
  {
   "cell_type": "code",
   "execution_count": 47,
   "metadata": {},
   "outputs": [
    {
     "data": {
      "text/plain": [
       "(-0.6479963234863083, 124.38363008210126)"
      ]
     },
     "execution_count": 47,
     "metadata": {},
     "output_type": "execute_result"
    }
   ],
   "source": [
    "# определение координат точки пересечения луча со слоем на высоте h\n",
    "h = 455\n",
    "sub_ionospheric(-12.4667792, 130.8439872, h, az, el)    "
   ]
  },
  {
   "cell_type": "code",
   "execution_count": 49,
   "metadata": {},
   "outputs": [],
   "source": [
    "# функция возвращает нам моменты, когда лучи от станции до спутников ГНСС пересекали траекторию МКС\n",
    "# опция radius дает допустимое расхождение между положением станции и ионосферной точкой (точкой пересечения) луча\n",
    "def get_crossections(day, site, radius=0):\n",
    "    pass"
   ]
  },
  {
   "cell_type": "code",
   "execution_count": null,
   "metadata": {},
   "outputs": [],
   "source": []
  }
 ],
 "metadata": {
  "kernelspec": {
   "display_name": "Python 3",
   "language": "python",
   "name": "python3"
  },
  "language_info": {
   "codemirror_mode": {
    "name": "ipython",
    "version": 3
   },
   "file_extension": ".py",
   "mimetype": "text/x-python",
   "name": "python",
   "nbconvert_exporter": "python",
   "pygments_lexer": "ipython3",
   "version": "3.8.3"
  }
 },
 "nbformat": 4,
 "nbformat_minor": 5
}
